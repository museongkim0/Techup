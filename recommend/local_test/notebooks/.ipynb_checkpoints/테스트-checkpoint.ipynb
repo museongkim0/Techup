{
 "cells": [
  {
   "cell_type": "code",
   "execution_count": 1,
   "id": "541a5205-7320-4373-b634-d1479345c9e0",
   "metadata": {},
   "outputs": [
    {
     "name": "stdout",
     "output_type": "stream",
     "text": [
      "Collecting elasticsearch==8.11.0\n",
      "  Downloading elasticsearch-8.11.0-py3-none-any.whl.metadata (5.1 kB)\n",
      "Collecting elastic-transport<9,>=8 (from elasticsearch==8.11.0)\n",
      "  Downloading elastic_transport-8.17.1-py3-none-any.whl.metadata (3.8 kB)\n",
      "Requirement already satisfied: urllib3<3,>=1.26.2 in /opt/conda/lib/python3.11/site-packages (from elastic-transport<9,>=8->elasticsearch==8.11.0) (2.0.7)\n",
      "Requirement already satisfied: certifi in /opt/conda/lib/python3.11/site-packages (from elastic-transport<9,>=8->elasticsearch==8.11.0) (2023.7.22)\n",
      "Downloading elasticsearch-8.11.0-py3-none-any.whl (412 kB)\n",
      "\u001b[2K   \u001b[90m━━━━━━━━━━━━━━━━━━━━━━━━━━━━━━━━━━━━━━━━\u001b[0m \u001b[32m412.6/412.6 kB\u001b[0m \u001b[31m2.1 MB/s\u001b[0m eta \u001b[36m0:00:00\u001b[0m00:01\u001b[0m00:01\u001b[0m\n",
      "\u001b[?25hDownloading elastic_transport-8.17.1-py3-none-any.whl (64 kB)\n",
      "\u001b[2K   \u001b[90m━━━━━━━━━━━━━━━━━━━━━━━━━━━━━━━━━━━━━━━━\u001b[0m \u001b[32m65.0/65.0 kB\u001b[0m \u001b[31m2.0 MB/s\u001b[0m eta \u001b[36m0:00:00\u001b[0m\n",
      "\u001b[?25hInstalling collected packages: elastic-transport, elasticsearch\n",
      "Successfully installed elastic-transport-8.17.1 elasticsearch-8.11.0\n"
     ]
    }
   ],
   "source": [
    "!pip install elasticsearch==8.11.0"
   ]
  },
  {
   "cell_type": "code",
   "execution_count": 2,
   "id": "0d567008-6b96-4fae-8011-e82ba7c8ac60",
   "metadata": {},
   "outputs": [],
   "source": [
    "from pyspark.sql import SparkSession\n",
    "spark = SparkSession.builder \\\n",
    "    .master(\"spark://spark-master:7077\") \\\n",
    "    .appName(\"JupyterSparkApp\") \\\n",
    "    .getOrCreate()"
   ]
  },
  {
   "cell_type": "code",
   "execution_count": 3,
   "id": "8b4d1390-9954-4e3e-afe1-a02f9d5e2268",
   "metadata": {},
   "outputs": [],
   "source": [
    "from elasticsearch import Elasticsearch\n",
    "\n",
    "# Elasticsearch 클라이언트 초기화\n",
    "es = Elasticsearch(\n",
    "    [\"http://elasticsearch:9200\"],\n",
    "    headers={\n",
    "        \"Accept\": \"application/vnd.elasticsearch+json; compatible-with=8\",\n",
    "        \"Content-Type\": \"application/json\"\n",
    "    }\n",
    ")"
   ]
  },
  {
   "cell_type": "code",
   "execution_count": 4,
   "id": "cfc5afe9-d3b9-437d-91e2-e3e9d98c995b",
   "metadata": {},
   "outputs": [],
   "source": [
    "sample_data = [\n",
    "    (\"Alice\", 25, \"Engineer\", \"Seoul\"),\n",
    "    (\"Bob\", 30, \"Designer\", \"Busan\"), \n",
    "    (\"Charlie\", 35, \"Manager\", \"Daegu\"),\n",
    "    (\"Diana\", 28, \"Analyst\", \"Seoul\"),\n",
    "    (\"Eve\", 32, \"Developer\", \"Incheon\")\n",
    "]"
   ]
  },
  {
   "cell_type": "code",
   "execution_count": 5,
   "id": "f49d5284-854c-424b-8b2f-16389dd92631",
   "metadata": {},
   "outputs": [],
   "source": [
    "from pyspark.sql.types import StructType, StructField, StringType, IntegerType\n",
    "\n",
    "schema = StructType([\n",
    "    StructField(\"name\", StringType(), True),\n",
    "    StructField(\"age\", IntegerType(), True),\n",
    "    StructField(\"job\", StringType(), True),\n",
    "    StructField(\"city\", StringType(), True)\n",
    "])"
   ]
  },
  {
   "cell_type": "code",
   "execution_count": 6,
   "id": "d0c87cb2-b989-4c63-bf57-2f6ab2d28784",
   "metadata": {},
   "outputs": [],
   "source": [
    "df = spark.createDataFrame(sample_data, schema)"
   ]
  },
  {
   "cell_type": "code",
   "execution_count": 7,
   "id": "7630d80b-a978-4cb7-b473-a3c3fe56eed5",
   "metadata": {},
   "outputs": [
    {
     "name": "stdout",
     "output_type": "stream",
     "text": [
      "문서 추가 결과: updated\n"
     ]
    }
   ],
   "source": [
    "doc = {\n",
    "        'name': 'Frank',\n",
    "        'age': 45,\n",
    "        'job': 'CEO',\n",
    "        'city': 'Seoul',\n",
    "        'timestamp': '2024-01-01T12:00:00'\n",
    "}\n",
    "    \n",
    "# 문서 추가\n",
    "response = es.index(index=\"employees\", id=6, body=doc)\n",
    "print(f\"문서 추가 결과: {response['result']}\")"
   ]
  },
  {
   "cell_type": "code",
   "execution_count": 8,
   "id": "a80cbd68-210c-41e6-acff-146b0d669969",
   "metadata": {},
   "outputs": [
    {
     "name": "stdout",
     "output_type": "stream",
     "text": [
      "=== 인덱스 리스트 ===\n",
      "인덱스: user-based, 문서 수: 0\n",
      "인덱스: employees, 문서 수: 1\n",
      "인덱스: item-based, 문서 수: 0\n"
     ]
    }
   ],
   "source": [
    "# 1. 인덱스 리스트 조회\n",
    "print(\"=== 인덱스 리스트 ===\")\n",
    "indices = es.cat.indices(format=\"json\")\n",
    "for index in indices:\n",
    "    index_name = index['index']\n",
    "    doc_count = index['docs.count']\n",
    "    print(f\"인덱스: {index_name}, 문서 수: {doc_count}\")"
   ]
  },
  {
   "cell_type": "code",
   "execution_count": 9,
   "id": "0aa8df67-241b-4b5d-a355-a1736778f349",
   "metadata": {},
   "outputs": [
    {
     "name": "stdout",
     "output_type": "stream",
     "text": [
      "\n",
      "=== 'employees' 인덱스 문서 내용 ===\n"
     ]
    }
   ],
   "source": [
    "# 2. 특정 인덱스의 문서 내용 조회 (예: 'employees' 인덱스)\n",
    "print(\"\\n=== 'employees' 인덱스 문서 내용 ===\")\n",
    "search_result = es.search(\n",
    "    index=\"employees\",\n",
    "    body={\n",
    "        \"query\": {\n",
    "            \"match_all\": {}  # 모든 문서 조회\n",
    "        },\n",
    "        \"size\": 10  # 최대 10개 문서 반환\n",
    "    }\n",
    ")"
   ]
  },
  {
   "cell_type": "code",
   "execution_count": 10,
   "id": "303f2436-35b1-4811-a1a3-deab2ed14778",
   "metadata": {},
   "outputs": [
    {
     "name": "stdout",
     "output_type": "stream",
     "text": [
      "문서 ID: 6, 내용: {'name': 'Frank', 'age': 45, 'job': 'CEO', 'city': 'Seoul', 'timestamp': '2024-01-01T12:00:00'}\n"
     ]
    }
   ],
   "source": [
    "# 검색 결과 출력\n",
    "hits = search_result['hits']['hits']\n",
    "if hits:\n",
    "    for hit in hits:\n",
    "        print(f\"문서 ID: {hit['_id']}, 내용: {hit['_source']}\")\n",
    "else:\n",
    "    print(\"인덱스 'employees'에 문서가 없습니다.\")"
   ]
  },
  {
   "cell_type": "code",
   "execution_count": null,
   "id": "6a02b23c-d757-4fe5-9bcb-2c424414f025",
   "metadata": {},
   "outputs": [],
   "source": []
  }
 ],
 "metadata": {
  "kernelspec": {
   "display_name": "Python 3 (ipykernel)",
   "language": "python",
   "name": "python3"
  },
  "language_info": {
   "codemirror_mode": {
    "name": "ipython",
    "version": 3
   },
   "file_extension": ".py",
   "mimetype": "text/x-python",
   "name": "python",
   "nbconvert_exporter": "python",
   "pygments_lexer": "ipython3",
   "version": "3.11.6"
  }
 },
 "nbformat": 4,
 "nbformat_minor": 5
}
