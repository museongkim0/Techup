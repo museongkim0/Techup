{
 "cells": [
  {
   "cell_type": "code",
   "execution_count": 1,
   "id": "6faa3491-b815-4348-8684-cb0fbd7816f3",
   "metadata": {},
   "outputs": [],
   "source": [
    "import pandas as pd\n",
    "rating_df = pd.read_csv(\"../data/test_rating.csv\")"
   ]
  },
  {
   "cell_type": "code",
   "execution_count": 2,
   "id": "0b9f3910-565f-4d3f-94e4-d8026356be7c",
   "metadata": {},
   "outputs": [
    {
     "name": "stdout",
     "output_type": "stream",
     "text": [
      "원래 사용자 수: 28921\n",
      "슬라이스된 사용자 수: 10000\n",
      "슬라이스된 데이터프레임 크기: (34284, 4)\n"
     ]
    },
    {
     "data": {
      "text/html": [
       "<div>\n",
       "<style scoped>\n",
       "    .dataframe tbody tr th:only-of-type {\n",
       "        vertical-align: middle;\n",
       "    }\n",
       "\n",
       "    .dataframe tbody tr th {\n",
       "        vertical-align: top;\n",
       "    }\n",
       "\n",
       "    .dataframe thead th {\n",
       "        text-align: right;\n",
       "    }\n",
       "</style>\n",
       "<table border=\"1\" class=\"dataframe\">\n",
       "  <thead>\n",
       "    <tr style=\"text-align: right;\">\n",
       "      <th></th>\n",
       "      <th>review_idx</th>\n",
       "      <th>user_idx</th>\n",
       "      <th>product_idx</th>\n",
       "      <th>review_rating</th>\n",
       "    </tr>\n",
       "  </thead>\n",
       "  <tbody>\n",
       "    <tr>\n",
       "      <th>2</th>\n",
       "      <td>3</td>\n",
       "      <td>861</td>\n",
       "      <td>1690</td>\n",
       "      <td>4</td>\n",
       "    </tr>\n",
       "    <tr>\n",
       "      <th>3</th>\n",
       "      <td>4</td>\n",
       "      <td>5391</td>\n",
       "      <td>3953</td>\n",
       "      <td>5</td>\n",
       "    </tr>\n",
       "    <tr>\n",
       "      <th>9</th>\n",
       "      <td>10</td>\n",
       "      <td>6266</td>\n",
       "      <td>1345</td>\n",
       "      <td>4</td>\n",
       "    </tr>\n",
       "    <tr>\n",
       "      <th>12</th>\n",
       "      <td>13</td>\n",
       "      <td>4427</td>\n",
       "      <td>61</td>\n",
       "      <td>2</td>\n",
       "    </tr>\n",
       "    <tr>\n",
       "      <th>19</th>\n",
       "      <td>20</td>\n",
       "      <td>8323</td>\n",
       "      <td>769</td>\n",
       "      <td>5</td>\n",
       "    </tr>\n",
       "  </tbody>\n",
       "</table>\n",
       "</div>"
      ],
      "text/plain": [
       "    review_idx  user_idx  product_idx  review_rating\n",
       "2            3       861         1690              4\n",
       "3            4      5391         3953              5\n",
       "9           10      6266         1345              4\n",
       "12          13      4427           61              2\n",
       "19          20      8323          769              5"
      ]
     },
     "execution_count": 2,
     "metadata": {},
     "output_type": "execute_result"
    }
   ],
   "source": [
    "# 고유한 user_idx 목록 추출\n",
    "unique_users = set(rating_df['user_idx'])\n",
    "\n",
    "# 상위 2만 개 사용자 선택\n",
    "selected_users = list(unique_users)[:10000]\n",
    "\n",
    "# 선택된 사용자에 해당하는 데이터프레임 슬라이스\n",
    "sliced_df = rating_df[rating_df['user_idx'].isin(selected_users)]\n",
    "\n",
    "# 결과 확인\n",
    "print(f\"원래 사용자 수: {len(unique_users)}\")\n",
    "print(f\"슬라이스된 사용자 수: {len(set(sliced_df['user_idx']))}\")\n",
    "print(f\"슬라이스된 데이터프레임 크기: {sliced_df.shape}\")\n",
    "sliced_df.head()"
   ]
  },
  {
   "cell_type": "code",
   "execution_count": 3,
   "id": "a149f7d6-6418-4631-936a-0b247f0ec910",
   "metadata": {},
   "outputs": [],
   "source": [
    "user_item_matrix = sliced_df.pivot_table(\n",
    "        index='user_idx',\n",
    "        columns='product_idx',\n",
    "        values='review_rating',\n",
    "        fill_value=0\n",
    ")"
   ]
  },
  {
   "cell_type": "code",
   "execution_count": 4,
   "id": "1efd14bc-4997-4edc-83f5-d5c946ffba4e",
   "metadata": {},
   "outputs": [],
   "source": [
    "from scipy.sparse import csr_matrix\n",
    "from sklearn.decomposition import TruncatedSVD\n",
    "from elasticsearch import Elasticsearch\n",
    "from elasticsearch.helpers import bulk\n",
    "from datetime import datetime\n",
    "import time\n",
    "import logging\n",
    "\n",
    "# 로깅 설정\n",
    "logging.basicConfig(level=logging.INFO)\n",
    "logger = logging.getLogger(\"elasticsearch\")"
   ]
  },
  {
   "cell_type": "code",
   "execution_count": 5,
   "id": "958978b0-8d7b-412c-a32a-137ebec42e0c",
   "metadata": {},
   "outputs": [],
   "source": [
    "user_idx_list = user_item_matrix.index\n",
    "item_idx_list = user_item_matrix.columns\n",
    "\n",
    "user_matrix_sparse = csr_matrix(user_item_matrix.values)\n",
    "item_matrix_sparse = csr_matrix(user_item_matrix.T.values)\n",
    "\n",
    "n_components = 128  # 차원 수 (하이퍼파라미터, 튜닝 가능)\n",
    "user_svd = TruncatedSVD(n_components=n_components, random_state=42)\n",
    "item_svd = TruncatedSVD(n_components=n_components, random_state=42)\n",
    "User_svd = user_svd.fit_transform(user_matrix_sparse)\n",
    "Item_svd = item_svd.fit_transform(item_matrix_sparse)"
   ]
  },
  {
   "cell_type": "code",
   "execution_count": 6,
   "id": "40a04e02-388f-4258-8cdf-24d2f87ec7e1",
   "metadata": {},
   "outputs": [],
   "source": [
    "# 엘라스틱서치 연결\n",
    "es = Elasticsearch(\n",
    "    [\"http://elasticsearch:9200\"],\n",
    "    headers={\n",
    "        \"Accept\": \"application/vnd.elasticsearch+json; compatible-with=8\",\n",
    "        \"Content-Type\": \"application/json\"\n",
    "    }\n",
    ")"
   ]
  },
  {
   "cell_type": "code",
   "execution_count": 7,
   "id": "2d35b287-da4c-4636-b9d5-22ef7b01557b",
   "metadata": {},
   "outputs": [],
   "source": [
    "def create_vector_indices(es, n_components):\n",
    "    # 벡터 인덱스 매핑 설정\n",
    "    vector_mapping = {\n",
    "        \"properties\": {\n",
    "            \"vector\": {\n",
    "                \"type\": \"dense_vector\",\n",
    "                \"dims\": n_components,\n",
    "                \"index\": True,\n",
    "                \"similarity\": \"cosine\",\n",
    "                \"index_options\": {\n",
    "                    \"type\": \"hnsw\",  # HNSW 알고리즘 사용\n",
    "                    \"m\": 16,  # 최대 연결 수 (기본값)\n",
    "                    \"ef_construction\": 200  # 인덱스 생성 시 효율성 파라미터\n",
    "                }\n",
    "            },\n",
    "            \"last_updated\": {\n",
    "                \"type\": \"date\"\n",
    "            }\n",
    "        }\n",
    "    }\n",
    "\n",
    "    # 인덱스 설정 (KNN 관련 설정 제거)\n",
    "    vector_settings = {\n",
    "        \"index\": {\n",
    "            \"number_of_shards\": 3,\n",
    "            \"number_of_replicas\": 1\n",
    "        }\n",
    "    }\n",
    "\n",
    "    # 인덱스 목록\n",
    "    indices = [\"user-based\", \"item-based\"]\n",
    "\n",
    "    for index_name in indices:\n",
    "        # 인덱스가 존재하면 삭제 후 다시 생성\n",
    "        if es.indices.exists(index=index_name):\n",
    "            print(f\"Deleting existing index: {index_name}\")\n",
    "            es.indices.delete(index=index_name)\n",
    "\n",
    "        # 인덱스 생성\n",
    "        print(f\"Creating index: {index_name}\")\n",
    "        es.indices.create(\n",
    "            index=index_name,\n",
    "            mappings=vector_mapping,\n",
    "            settings=vector_settings\n",
    "        )\n",
    "        print(f\"Finished Creating index: {index_name}\")\n",
    "\n",
    "\n",
    "def bulk_store_user_vectors(es, user_idx_list, User_svd):\n",
    "    start_time = time.time()\n",
    "\n",
    "    def generate_user_actions():\n",
    "        for i, user_id in enumerate(user_idx_list):\n",
    "            yield {\n",
    "                \"_index\": \"user-based\",\n",
    "                \"_id\": str(user_id),\n",
    "                \"_source\": {\n",
    "                    \"vector\": User_svd[i].tolist(),\n",
    "                    \"last_updated\": datetime.now().isoformat()\n",
    "                }\n",
    "            }\n",
    "\n",
    "    # 벌크 업로드 실행\n",
    "    success, failed = bulk(es, generate_user_actions(), chunk_size=1000, request_timeout=120)\n",
    "    # success, failed = es.options(request_timeout=120).bulk(body=generate_user_actions())\n",
    "\n",
    "    end_time = time.time()\n",
    "    print(f\"Bulk indexed {success} user vectors in {end_time - start_time:.2f} seconds\")\n",
    "    if failed:\n",
    "        print(f\"Failed to index {len(failed)} documents\")\n",
    "\n",
    "\n",
    "def bulk_store_item_vectors(es, item_idx_list, Item_svd):\n",
    "    start_time = time.time()\n",
    "\n",
    "    def generate_item_actions():\n",
    "        for i, item_id in enumerate(item_idx_list):\n",
    "            yield {\n",
    "                \"_index\": \"item-based\",\n",
    "                \"_id\": str(item_id),\n",
    "                \"_source\": {\n",
    "                    \"vector\": Item_svd[i].tolist(),\n",
    "                    \"last_updated\": datetime.now().isoformat()\n",
    "                }\n",
    "            }\n",
    "\n",
    "    # 벌크 업로드 실행\n",
    "    success, failed = bulk(es, generate_item_actions(), chunk_size=1000, request_timeout=120)\n",
    "    # success, failed = es.options(request_timeout=120).bulk(body=generate_item_actions())\n",
    "\n",
    "    end_time = time.time()\n",
    "    print(f\"Bulk indexed {success} item vectors in {end_time - start_time:.2f} seconds\")\n",
    "    if failed:\n",
    "        print(f\"Failed to index {len(failed)} documents\")"
   ]
  },
  {
   "cell_type": "code",
   "execution_count": null,
   "id": "488ab7ff-57fc-4a98-bd16-55324b362e32",
   "metadata": {},
   "outputs": [
    {
     "name": "stderr",
     "output_type": "stream",
     "text": [
      "INFO:elastic_transport.transport:HEAD http://elasticsearch:9200/user-based [status:404 duration:0.479s]\n"
     ]
    },
    {
     "name": "stdout",
     "output_type": "stream",
     "text": [
      "Creating index: user-based\n"
     ]
    },
    {
     "name": "stderr",
     "output_type": "stream",
     "text": [
      "INFO:elastic_transport.transport:PUT http://elasticsearch:9200/user-based [status:200 duration:2.909s]\n",
      "INFO:elastic_transport.transport:HEAD http://elasticsearch:9200/item-based [status:404 duration:0.069s]\n"
     ]
    },
    {
     "name": "stdout",
     "output_type": "stream",
     "text": [
      "Finished Creating index: user-based\n",
      "Creating index: item-based\n"
     ]
    },
    {
     "name": "stderr",
     "output_type": "stream",
     "text": [
      "INFO:elastic_transport.transport:PUT http://elasticsearch:9200/item-based [status:200 duration:1.031s]\n"
     ]
    },
    {
     "name": "stdout",
     "output_type": "stream",
     "text": [
      "Finished Creating index: item-based\n"
     ]
    },
    {
     "name": "stderr",
     "output_type": "stream",
     "text": [
      "/tmp/ipykernel_636/2814522230.py:64: DeprecationWarning: Passing transport options in the API method is deprecated. Use 'Elasticsearch.options()' instead.\n",
      "  success, failed = bulk(es, generate_user_actions(), chunk_size=1000, request_timeout=120)\n",
      "INFO:elastic_transport.transport:PUT http://elasticsearch:9200/_bulk [status:200 duration:15.741s]\n",
      "INFO:elastic_transport.transport:PUT http://elasticsearch:9200/_bulk [status:200 duration:8.663s]\n",
      "INFO:elastic_transport.transport:PUT http://elasticsearch:9200/_bulk [status:200 duration:2.223s]\n",
      "INFO:elastic_transport.transport:PUT http://elasticsearch:9200/_bulk [status:200 duration:2.860s]\n",
      "INFO:elastic_transport.transport:PUT http://elasticsearch:9200/_bulk [status:200 duration:2.259s]\n",
      "INFO:elastic_transport.transport:PUT http://elasticsearch:9200/_bulk [status:200 duration:2.067s]\n",
      "INFO:elastic_transport.transport:PUT http://elasticsearch:9200/_bulk [status:200 duration:2.577s]\n",
      "INFO:elastic_transport.transport:PUT http://elasticsearch:9200/_bulk [status:200 duration:1.751s]\n",
      "INFO:elastic_transport.transport:PUT http://elasticsearch:9200/_bulk [status:200 duration:2.924s]\n",
      "INFO:elastic_transport.transport:PUT http://elasticsearch:9200/_bulk [status:200 duration:2.742s]\n",
      "/tmp/ipykernel_636/2814522230.py:88: DeprecationWarning: Passing transport options in the API method is deprecated. Use 'Elasticsearch.options()' instead.\n",
      "  success, failed = bulk(es, generate_item_actions(), chunk_size=1000, request_timeout=120)\n"
     ]
    },
    {
     "name": "stdout",
     "output_type": "stream",
     "text": [
      "Bulk indexed 10000 user vectors in 45.79 seconds\n"
     ]
    },
    {
     "name": "stderr",
     "output_type": "stream",
     "text": [
      "INFO:elastic_transport.transport:PUT http://elasticsearch:9200/_bulk [status:200 duration:1.145s]\n",
      "INFO:elastic_transport.transport:PUT http://elasticsearch:9200/_bulk [status:200 duration:1.230s]\n",
      "INFO:elastic_transport.transport:PUT http://elasticsearch:9200/_bulk [status:200 duration:1.077s]\n"
     ]
    }
   ],
   "source": [
    "# 인덱스 생성\n",
    "create_vector_indices(es, n_components)\n",
    "\n",
    "# 벌크 API로 데이터 적재\n",
    "bulk_store_user_vectors(es, user_idx_list, User_svd)\n",
    "bulk_store_item_vectors(es, item_idx_list, Item_svd)"
   ]
  },
  {
   "cell_type": "code",
   "execution_count": null,
   "id": "50988c4e-84cf-42bf-ba50-be6f75494b76",
   "metadata": {},
   "outputs": [],
   "source": [
    "# 1. 인덱스 리스트 조회\n",
    "print(\"=== 인덱스 리스트 ===\")\n",
    "indices = es.cat.indices(format=\"json\")\n",
    "for index in indices:\n",
    "    index_name = index['index']\n",
    "    doc_count = index['docs.count']\n",
    "    print(f\"인덱스: {index_name}, 문서 수: {doc_count}\")"
   ]
  },
  {
   "cell_type": "code",
   "execution_count": null,
   "id": "de7b8624-910e-40f7-ac1e-2d4899873c86",
   "metadata": {},
   "outputs": [],
   "source": [
    "# 2. 특정 인덱스의 문서 내용 조회 (예: 'employees' 인덱스)\n",
    "print(\"\\n=== 'employees' 인덱스 문서 내용 ===\")\n",
    "search_result = es.search(\n",
    "    index=\"user-based\",\n",
    "    body={\n",
    "        \"query\": {\n",
    "            \"match_all\": {}  # 모든 문서 조회\n",
    "        },\n",
    "        \"size\": 10  # 최대 10개 문서 반환\n",
    "    }\n",
    ")\n",
    "# 검색 결과 출력\n",
    "hits = search_result['hits']['hits']\n",
    "if hits:\n",
    "    for hit in hits:\n",
    "        print(f\"문서 ID: {hit['_id']}, 내용: {hit['_source']}\")\n",
    "else:\n",
    "    print(\"인덱스 'employees'에 문서가 없습니다.\")"
   ]
  },
  {
   "cell_type": "code",
   "execution_count": null,
   "id": "2689cbca-16af-4671-b205-cfddc8ab3034",
   "metadata": {},
   "outputs": [],
   "source": []
  }
 ],
 "metadata": {
  "kernelspec": {
   "display_name": "Python 3 (ipykernel)",
   "language": "python",
   "name": "python3"
  },
  "language_info": {
   "codemirror_mode": {
    "name": "ipython",
    "version": 3
   },
   "file_extension": ".py",
   "mimetype": "text/x-python",
   "name": "python",
   "nbconvert_exporter": "python",
   "pygments_lexer": "ipython3",
   "version": "3.11.6"
  }
 },
 "nbformat": 4,
 "nbformat_minor": 5
}
