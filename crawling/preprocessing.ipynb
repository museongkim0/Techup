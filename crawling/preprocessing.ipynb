{
 "cells": [
  {
   "cell_type": "code",
   "id": "initial_id",
   "metadata": {
    "collapsed": true,
    "ExecuteTime": {
     "end_time": "2025-04-23T06:47:30.992732Z",
     "start_time": "2025-04-23T06:47:30.567415Z"
    }
   },
   "source": [
    "import pandas as pd\n",
    "\n",
    "cpu_img = pd.read_csv(\"cpu_img.csv\")\n",
    "gpu_img = pd.read_csv(\"gpu_img.csv\")\n",
    "ssd_img = pd.read_csv(\"ssd_img.csv\")\n",
    "ram_img = pd.read_csv(\"ram_img.csv\")\n",
    "hdd_img = pd.read_csv(\"hdd_img.csv\")\n",
    "\n",
    "merged_df = pd.concat([cpu_img, gpu_img, ssd_img, ram_img, hdd_img], axis=0, ignore_index=True)\n",
    "merged_df.to_csv(\"product_image.csv\", index=False, encoding=\"utf-8-sig\")"
   ],
   "outputs": [],
   "execution_count": 36
  },
  {
   "metadata": {
    "ExecuteTime": {
     "end_time": "2025-04-23T06:46:04.452214Z",
     "start_time": "2025-04-23T06:46:02.447039Z"
    }
   },
   "cell_type": "code",
   "source": [
    "cpu_product = pd.read_csv(\"cpu_product.csv\")\n",
    "gpu_product = pd.read_csv(\"gpu_product.csv\")\n",
    "ssd_product = pd.read_csv(\"ssd_product.csv\")\n",
    "ram_product = pd.read_csv(\"ram_product.csv\")\n",
    "hdd_product = pd.read_csv(\"hdd_product.csv\")\n",
    "\n",
    "merged_df = pd.concat([cpu_product, gpu_product, ssd_product, ram_product, hdd_product], axis=0, ignore_index=True)\n",
    "\n",
    "import numpy as np\n",
    "# '가격비교예정'을 NaN으로 대체\n",
    "merged_df['price'] = merged_df['price'].replace('가격비교예정', np.nan)\n",
    "\n",
    "# 쉼표 제거 후 '원'을 기준으로 분리하고 float로 변환\n",
    "merged_df['price'] = merged_df['price'].str.split('원').str[0].astype(float)\n",
    "\n",
    "merged_df.to_csv(\"product.csv\", index=False, encoding=\"utf-8-sig\")"
   ],
   "id": "77b6080c11e582f7",
   "outputs": [],
   "execution_count": 35
  },
  {
   "metadata": {
    "ExecuteTime": {
     "end_time": "2025-04-23T03:32:41.098323Z",
     "start_time": "2025-04-23T03:32:41.079750Z"
    }
   },
   "cell_type": "code",
   "source": "len(merged_df)",
   "id": "dae56ac7808ea446",
   "outputs": [
    {
     "data": {
      "text/plain": [
       "4186"
      ]
     },
     "execution_count": 10,
     "metadata": {},
     "output_type": "execute_result"
    }
   ],
   "execution_count": 10
  },
  {
   "metadata": {
    "ExecuteTime": {
     "end_time": "2025-04-23T06:24:30.684866Z",
     "start_time": "2025-04-23T06:24:30.660934Z"
    }
   },
   "cell_type": "code",
   "source": [
    "import numpy as np\n",
    "# '가격비교예정'을 NaN으로 대체\n",
    "merged_df['price'] = merged_df['price'].replace('가격비교예정', np.nan)\n",
    "\n",
    "# 쉼표 제거 후 '원'을 기준으로 분리하고 float로 변환\n",
    "merged_df['price'] = merged_df['price'].str.split('원').str[0].astype(float)"
   ],
   "id": "4df0ac9e5ea9f26d",
   "outputs": [],
   "execution_count": 26
  },
  {
   "metadata": {
    "ExecuteTime": {
     "end_time": "2025-04-23T06:25:58.984134Z",
     "start_time": "2025-04-23T06:25:58.924391Z"
    }
   },
   "cell_type": "code",
   "source": "merged_df.to_csv(\"product.csv\")",
   "id": "2d4286ea37a99fc3",
   "outputs": [],
   "execution_count": 29
  },
  {
   "metadata": {
    "ExecuteTime": {
     "end_time": "2025-05-13T06:18:16.183031Z",
     "start_time": "2025-05-13T06:18:08.037594Z"
    }
   },
   "cell_type": "code",
   "source": [
    "import pandas as pd\n",
    "import numpy as np\n",
    "# 데이터 생성을 위한 설정\n",
    "num_reviews = 100000\n",
    "user_idx_range = range(1, 30001)  # 1~4000\n",
    "product_idx_range = range(1, 4187)  # 1~4186\n",
    "rating_range = range(1, 6)  # 1~5\n",
    "\n",
    "# 랜덤 데이터 생성\n",
    "np.random.seed(42)  # 재현 가능성을 위해 시드 설정\n",
    "data = {\n",
    "    'review_idx': range(1, 100001),\n",
    "    'user_idx': np.random.choice(user_idx_range, size=num_reviews),\n",
    "    'product_idx': np.random.choice(product_idx_range, size=num_reviews),\n",
    "    'review_rating': np.random.choice(rating_range, size=num_reviews)\n",
    "}\n",
    "\n",
    "# DataFrame 생성\n",
    "df = pd.DataFrame(data)\n",
    "\n",
    "# 결과 확인\n",
    "print(df.head())\n",
    "print(f\"데이터 크기: {df.shape}\")\n",
    "print(f\"데이터 타입:\\n{df.dtypes}\")"
   ],
   "id": "5bd77be835c06d53",
   "outputs": [
    {
     "name": "stdout",
     "output_type": "stream",
     "text": [
      "   review_idx  user_idx  product_idx  review_rating\n",
      "0           1     23655         2602              2\n",
      "1           2     15796         3405              1\n",
      "2           3       861         1690              4\n",
      "3           4      5391         3953              5\n",
      "4           5     29803         1336              3\n",
      "데이터 크기: (100000, 4)\n",
      "데이터 타입:\n",
      "review_idx       int64\n",
      "user_idx         int64\n",
      "product_idx      int64\n",
      "review_rating    int64\n",
      "dtype: object\n"
     ]
    }
   ],
   "execution_count": 1
  },
  {
   "metadata": {
    "ExecuteTime": {
     "end_time": "2025-04-25T00:18:52.278907Z",
     "start_time": "2025-04-25T00:18:52.264976Z"
    }
   },
   "cell_type": "code",
   "source": "df.head().to_csv(\"rating_sample.csv\", index=False, encoding=\"utf-8-sig\")",
   "id": "7ececaf0545a119f",
   "outputs": [],
   "execution_count": 4
  },
  {
   "metadata": {
    "ExecuteTime": {
     "end_time": "2025-05-13T06:21:00.284876Z",
     "start_time": "2025-05-13T06:20:59.929153Z"
    }
   },
   "cell_type": "code",
   "source": "df.loc[df['user_idx'] == 4003]",
   "id": "4dc650490a1f674c",
   "outputs": [
    {
     "data": {
      "text/plain": [
       "       review_idx  user_idx  product_idx  review_rating\n",
       "9604         9605      4003         3465              4\n",
       "39680       39681      4003          449              2\n",
       "81366       81367      4003         1013              5"
      ],
      "text/html": [
       "<div>\n",
       "<style scoped>\n",
       "    .dataframe tbody tr th:only-of-type {\n",
       "        vertical-align: middle;\n",
       "    }\n",
       "\n",
       "    .dataframe tbody tr th {\n",
       "        vertical-align: top;\n",
       "    }\n",
       "\n",
       "    .dataframe thead th {\n",
       "        text-align: right;\n",
       "    }\n",
       "</style>\n",
       "<table border=\"1\" class=\"dataframe\">\n",
       "  <thead>\n",
       "    <tr style=\"text-align: right;\">\n",
       "      <th></th>\n",
       "      <th>review_idx</th>\n",
       "      <th>user_idx</th>\n",
       "      <th>product_idx</th>\n",
       "      <th>review_rating</th>\n",
       "    </tr>\n",
       "  </thead>\n",
       "  <tbody>\n",
       "    <tr>\n",
       "      <th>9604</th>\n",
       "      <td>9605</td>\n",
       "      <td>4003</td>\n",
       "      <td>3465</td>\n",
       "      <td>4</td>\n",
       "    </tr>\n",
       "    <tr>\n",
       "      <th>39680</th>\n",
       "      <td>39681</td>\n",
       "      <td>4003</td>\n",
       "      <td>449</td>\n",
       "      <td>2</td>\n",
       "    </tr>\n",
       "    <tr>\n",
       "      <th>81366</th>\n",
       "      <td>81367</td>\n",
       "      <td>4003</td>\n",
       "      <td>1013</td>\n",
       "      <td>5</td>\n",
       "    </tr>\n",
       "  </tbody>\n",
       "</table>\n",
       "</div>"
      ]
     },
     "execution_count": 2,
     "metadata": {},
     "output_type": "execute_result"
    }
   ],
   "execution_count": 2
  },
  {
   "metadata": {
    "ExecuteTime": {
     "end_time": "2025-05-13T06:21:06.569169Z",
     "start_time": "2025-05-13T06:21:05.394570Z"
    }
   },
   "cell_type": "code",
   "source": "df.to_csv(\"test_rating.csv\", index=False, encoding=\"utf-8-sig\")",
   "id": "66160cc8e37f4891",
   "outputs": [],
   "execution_count": 3
  },
  {
   "metadata": {
    "ExecuteTime": {
     "end_time": "2025-05-10T12:41:31.821293Z",
     "start_time": "2025-05-10T12:41:26.616068Z"
    }
   },
   "cell_type": "code",
   "source": [
    "# 2. User-Item Matrix 생성\n",
    "user_item_matrix = df.pivot_table(index='user_idx', columns='product_idx', values='review_rating')\n",
    "user_item_matrix = user_item_matrix.fillna(0)  # 결측값 0으로 채움"
   ],
   "id": "52311842fa89e536",
   "outputs": [],
   "execution_count": 3
  },
  {
   "metadata": {
    "ExecuteTime": {
     "end_time": "2025-05-12T01:56:06.562983Z",
     "start_time": "2025-05-12T01:56:06.421941Z"
    }
   },
   "cell_type": "code",
   "source": "user_item_matrix",
   "id": "b95c2c631c394285",
   "outputs": [
    {
     "data": {
      "text/plain": [
       "product_idx  1     2     3     4     5     6     7     8     9     10    ...  \\\n",
       "user_idx                                                                 ...   \n",
       "1             0.0   0.0   0.0   0.0   0.0   0.0   0.0   0.0   0.0   0.0  ...   \n",
       "2             0.0   0.0   0.0   0.0   0.0   0.0   0.0   0.0   0.0   0.0  ...   \n",
       "3             0.0   0.0   0.0   0.0   0.0   0.0   0.0   0.0   0.0   0.0  ...   \n",
       "4             0.0   0.0   0.0   0.0   0.0   0.0   0.0   0.0   0.0   0.0  ...   \n",
       "5             0.0   0.0   0.0   0.0   0.0   0.0   0.0   0.0   0.0   0.0  ...   \n",
       "...           ...   ...   ...   ...   ...   ...   ...   ...   ...   ...  ...   \n",
       "29996         0.0   0.0   0.0   0.0   0.0   0.0   0.0   0.0   0.0   0.0  ...   \n",
       "29997         0.0   0.0   0.0   0.0   0.0   0.0   0.0   0.0   0.0   0.0  ...   \n",
       "29998         0.0   0.0   0.0   0.0   0.0   0.0   0.0   0.0   0.0   0.0  ...   \n",
       "29999         0.0   0.0   0.0   0.0   0.0   0.0   0.0   0.0   0.0   0.0  ...   \n",
       "30000         0.0   0.0   0.0   0.0   0.0   0.0   0.0   0.0   0.0   0.0  ...   \n",
       "\n",
       "product_idx  4177  4178  4179  4180  4181  4182  4183  4184  4185  4186  \n",
       "user_idx                                                                 \n",
       "1             0.0   0.0   0.0   0.0   0.0   0.0   0.0   0.0   0.0   0.0  \n",
       "2             0.0   0.0   0.0   0.0   0.0   0.0   0.0   0.0   0.0   0.0  \n",
       "3             0.0   0.0   0.0   0.0   0.0   0.0   0.0   0.0   0.0   0.0  \n",
       "4             0.0   0.0   0.0   0.0   0.0   0.0   0.0   0.0   0.0   0.0  \n",
       "5             0.0   0.0   0.0   0.0   0.0   0.0   0.0   0.0   0.0   0.0  \n",
       "...           ...   ...   ...   ...   ...   ...   ...   ...   ...   ...  \n",
       "29996         0.0   0.0   0.0   0.0   0.0   0.0   0.0   0.0   0.0   0.0  \n",
       "29997         0.0   0.0   0.0   0.0   0.0   0.0   0.0   0.0   0.0   0.0  \n",
       "29998         0.0   0.0   0.0   0.0   0.0   0.0   0.0   0.0   0.0   0.0  \n",
       "29999         0.0   0.0   0.0   0.0   0.0   0.0   0.0   0.0   0.0   0.0  \n",
       "30000         0.0   0.0   0.0   0.0   0.0   0.0   0.0   0.0   0.0   0.0  \n",
       "\n",
       "[28921 rows x 4186 columns]"
      ],
      "text/html": [
       "<div>\n",
       "<style scoped>\n",
       "    .dataframe tbody tr th:only-of-type {\n",
       "        vertical-align: middle;\n",
       "    }\n",
       "\n",
       "    .dataframe tbody tr th {\n",
       "        vertical-align: top;\n",
       "    }\n",
       "\n",
       "    .dataframe thead th {\n",
       "        text-align: right;\n",
       "    }\n",
       "</style>\n",
       "<table border=\"1\" class=\"dataframe\">\n",
       "  <thead>\n",
       "    <tr style=\"text-align: right;\">\n",
       "      <th>product_idx</th>\n",
       "      <th>1</th>\n",
       "      <th>2</th>\n",
       "      <th>3</th>\n",
       "      <th>4</th>\n",
       "      <th>5</th>\n",
       "      <th>6</th>\n",
       "      <th>7</th>\n",
       "      <th>8</th>\n",
       "      <th>9</th>\n",
       "      <th>10</th>\n",
       "      <th>...</th>\n",
       "      <th>4177</th>\n",
       "      <th>4178</th>\n",
       "      <th>4179</th>\n",
       "      <th>4180</th>\n",
       "      <th>4181</th>\n",
       "      <th>4182</th>\n",
       "      <th>4183</th>\n",
       "      <th>4184</th>\n",
       "      <th>4185</th>\n",
       "      <th>4186</th>\n",
       "    </tr>\n",
       "    <tr>\n",
       "      <th>user_idx</th>\n",
       "      <th></th>\n",
       "      <th></th>\n",
       "      <th></th>\n",
       "      <th></th>\n",
       "      <th></th>\n",
       "      <th></th>\n",
       "      <th></th>\n",
       "      <th></th>\n",
       "      <th></th>\n",
       "      <th></th>\n",
       "      <th></th>\n",
       "      <th></th>\n",
       "      <th></th>\n",
       "      <th></th>\n",
       "      <th></th>\n",
       "      <th></th>\n",
       "      <th></th>\n",
       "      <th></th>\n",
       "      <th></th>\n",
       "      <th></th>\n",
       "      <th></th>\n",
       "    </tr>\n",
       "  </thead>\n",
       "  <tbody>\n",
       "    <tr>\n",
       "      <th>1</th>\n",
       "      <td>0.0</td>\n",
       "      <td>0.0</td>\n",
       "      <td>0.0</td>\n",
       "      <td>0.0</td>\n",
       "      <td>0.0</td>\n",
       "      <td>0.0</td>\n",
       "      <td>0.0</td>\n",
       "      <td>0.0</td>\n",
       "      <td>0.0</td>\n",
       "      <td>0.0</td>\n",
       "      <td>...</td>\n",
       "      <td>0.0</td>\n",
       "      <td>0.0</td>\n",
       "      <td>0.0</td>\n",
       "      <td>0.0</td>\n",
       "      <td>0.0</td>\n",
       "      <td>0.0</td>\n",
       "      <td>0.0</td>\n",
       "      <td>0.0</td>\n",
       "      <td>0.0</td>\n",
       "      <td>0.0</td>\n",
       "    </tr>\n",
       "    <tr>\n",
       "      <th>2</th>\n",
       "      <td>0.0</td>\n",
       "      <td>0.0</td>\n",
       "      <td>0.0</td>\n",
       "      <td>0.0</td>\n",
       "      <td>0.0</td>\n",
       "      <td>0.0</td>\n",
       "      <td>0.0</td>\n",
       "      <td>0.0</td>\n",
       "      <td>0.0</td>\n",
       "      <td>0.0</td>\n",
       "      <td>...</td>\n",
       "      <td>0.0</td>\n",
       "      <td>0.0</td>\n",
       "      <td>0.0</td>\n",
       "      <td>0.0</td>\n",
       "      <td>0.0</td>\n",
       "      <td>0.0</td>\n",
       "      <td>0.0</td>\n",
       "      <td>0.0</td>\n",
       "      <td>0.0</td>\n",
       "      <td>0.0</td>\n",
       "    </tr>\n",
       "    <tr>\n",
       "      <th>3</th>\n",
       "      <td>0.0</td>\n",
       "      <td>0.0</td>\n",
       "      <td>0.0</td>\n",
       "      <td>0.0</td>\n",
       "      <td>0.0</td>\n",
       "      <td>0.0</td>\n",
       "      <td>0.0</td>\n",
       "      <td>0.0</td>\n",
       "      <td>0.0</td>\n",
       "      <td>0.0</td>\n",
       "      <td>...</td>\n",
       "      <td>0.0</td>\n",
       "      <td>0.0</td>\n",
       "      <td>0.0</td>\n",
       "      <td>0.0</td>\n",
       "      <td>0.0</td>\n",
       "      <td>0.0</td>\n",
       "      <td>0.0</td>\n",
       "      <td>0.0</td>\n",
       "      <td>0.0</td>\n",
       "      <td>0.0</td>\n",
       "    </tr>\n",
       "    <tr>\n",
       "      <th>4</th>\n",
       "      <td>0.0</td>\n",
       "      <td>0.0</td>\n",
       "      <td>0.0</td>\n",
       "      <td>0.0</td>\n",
       "      <td>0.0</td>\n",
       "      <td>0.0</td>\n",
       "      <td>0.0</td>\n",
       "      <td>0.0</td>\n",
       "      <td>0.0</td>\n",
       "      <td>0.0</td>\n",
       "      <td>...</td>\n",
       "      <td>0.0</td>\n",
       "      <td>0.0</td>\n",
       "      <td>0.0</td>\n",
       "      <td>0.0</td>\n",
       "      <td>0.0</td>\n",
       "      <td>0.0</td>\n",
       "      <td>0.0</td>\n",
       "      <td>0.0</td>\n",
       "      <td>0.0</td>\n",
       "      <td>0.0</td>\n",
       "    </tr>\n",
       "    <tr>\n",
       "      <th>5</th>\n",
       "      <td>0.0</td>\n",
       "      <td>0.0</td>\n",
       "      <td>0.0</td>\n",
       "      <td>0.0</td>\n",
       "      <td>0.0</td>\n",
       "      <td>0.0</td>\n",
       "      <td>0.0</td>\n",
       "      <td>0.0</td>\n",
       "      <td>0.0</td>\n",
       "      <td>0.0</td>\n",
       "      <td>...</td>\n",
       "      <td>0.0</td>\n",
       "      <td>0.0</td>\n",
       "      <td>0.0</td>\n",
       "      <td>0.0</td>\n",
       "      <td>0.0</td>\n",
       "      <td>0.0</td>\n",
       "      <td>0.0</td>\n",
       "      <td>0.0</td>\n",
       "      <td>0.0</td>\n",
       "      <td>0.0</td>\n",
       "    </tr>\n",
       "    <tr>\n",
       "      <th>...</th>\n",
       "      <td>...</td>\n",
       "      <td>...</td>\n",
       "      <td>...</td>\n",
       "      <td>...</td>\n",
       "      <td>...</td>\n",
       "      <td>...</td>\n",
       "      <td>...</td>\n",
       "      <td>...</td>\n",
       "      <td>...</td>\n",
       "      <td>...</td>\n",
       "      <td>...</td>\n",
       "      <td>...</td>\n",
       "      <td>...</td>\n",
       "      <td>...</td>\n",
       "      <td>...</td>\n",
       "      <td>...</td>\n",
       "      <td>...</td>\n",
       "      <td>...</td>\n",
       "      <td>...</td>\n",
       "      <td>...</td>\n",
       "      <td>...</td>\n",
       "    </tr>\n",
       "    <tr>\n",
       "      <th>29996</th>\n",
       "      <td>0.0</td>\n",
       "      <td>0.0</td>\n",
       "      <td>0.0</td>\n",
       "      <td>0.0</td>\n",
       "      <td>0.0</td>\n",
       "      <td>0.0</td>\n",
       "      <td>0.0</td>\n",
       "      <td>0.0</td>\n",
       "      <td>0.0</td>\n",
       "      <td>0.0</td>\n",
       "      <td>...</td>\n",
       "      <td>0.0</td>\n",
       "      <td>0.0</td>\n",
       "      <td>0.0</td>\n",
       "      <td>0.0</td>\n",
       "      <td>0.0</td>\n",
       "      <td>0.0</td>\n",
       "      <td>0.0</td>\n",
       "      <td>0.0</td>\n",
       "      <td>0.0</td>\n",
       "      <td>0.0</td>\n",
       "    </tr>\n",
       "    <tr>\n",
       "      <th>29997</th>\n",
       "      <td>0.0</td>\n",
       "      <td>0.0</td>\n",
       "      <td>0.0</td>\n",
       "      <td>0.0</td>\n",
       "      <td>0.0</td>\n",
       "      <td>0.0</td>\n",
       "      <td>0.0</td>\n",
       "      <td>0.0</td>\n",
       "      <td>0.0</td>\n",
       "      <td>0.0</td>\n",
       "      <td>...</td>\n",
       "      <td>0.0</td>\n",
       "      <td>0.0</td>\n",
       "      <td>0.0</td>\n",
       "      <td>0.0</td>\n",
       "      <td>0.0</td>\n",
       "      <td>0.0</td>\n",
       "      <td>0.0</td>\n",
       "      <td>0.0</td>\n",
       "      <td>0.0</td>\n",
       "      <td>0.0</td>\n",
       "    </tr>\n",
       "    <tr>\n",
       "      <th>29998</th>\n",
       "      <td>0.0</td>\n",
       "      <td>0.0</td>\n",
       "      <td>0.0</td>\n",
       "      <td>0.0</td>\n",
       "      <td>0.0</td>\n",
       "      <td>0.0</td>\n",
       "      <td>0.0</td>\n",
       "      <td>0.0</td>\n",
       "      <td>0.0</td>\n",
       "      <td>0.0</td>\n",
       "      <td>...</td>\n",
       "      <td>0.0</td>\n",
       "      <td>0.0</td>\n",
       "      <td>0.0</td>\n",
       "      <td>0.0</td>\n",
       "      <td>0.0</td>\n",
       "      <td>0.0</td>\n",
       "      <td>0.0</td>\n",
       "      <td>0.0</td>\n",
       "      <td>0.0</td>\n",
       "      <td>0.0</td>\n",
       "    </tr>\n",
       "    <tr>\n",
       "      <th>29999</th>\n",
       "      <td>0.0</td>\n",
       "      <td>0.0</td>\n",
       "      <td>0.0</td>\n",
       "      <td>0.0</td>\n",
       "      <td>0.0</td>\n",
       "      <td>0.0</td>\n",
       "      <td>0.0</td>\n",
       "      <td>0.0</td>\n",
       "      <td>0.0</td>\n",
       "      <td>0.0</td>\n",
       "      <td>...</td>\n",
       "      <td>0.0</td>\n",
       "      <td>0.0</td>\n",
       "      <td>0.0</td>\n",
       "      <td>0.0</td>\n",
       "      <td>0.0</td>\n",
       "      <td>0.0</td>\n",
       "      <td>0.0</td>\n",
       "      <td>0.0</td>\n",
       "      <td>0.0</td>\n",
       "      <td>0.0</td>\n",
       "    </tr>\n",
       "    <tr>\n",
       "      <th>30000</th>\n",
       "      <td>0.0</td>\n",
       "      <td>0.0</td>\n",
       "      <td>0.0</td>\n",
       "      <td>0.0</td>\n",
       "      <td>0.0</td>\n",
       "      <td>0.0</td>\n",
       "      <td>0.0</td>\n",
       "      <td>0.0</td>\n",
       "      <td>0.0</td>\n",
       "      <td>0.0</td>\n",
       "      <td>...</td>\n",
       "      <td>0.0</td>\n",
       "      <td>0.0</td>\n",
       "      <td>0.0</td>\n",
       "      <td>0.0</td>\n",
       "      <td>0.0</td>\n",
       "      <td>0.0</td>\n",
       "      <td>0.0</td>\n",
       "      <td>0.0</td>\n",
       "      <td>0.0</td>\n",
       "      <td>0.0</td>\n",
       "    </tr>\n",
       "  </tbody>\n",
       "</table>\n",
       "<p>28921 rows × 4186 columns</p>\n",
       "</div>"
      ]
     },
     "execution_count": 23,
     "metadata": {},
     "output_type": "execute_result"
    }
   ],
   "execution_count": 23
  },
  {
   "metadata": {
    "ExecuteTime": {
     "end_time": "2025-05-12T01:56:44.841718Z",
     "start_time": "2025-05-12T01:56:44.827720Z"
    }
   },
   "cell_type": "code",
   "source": [
    "user_idx_list = user_item_matrix.index\n",
    "user_idx_list"
   ],
   "id": "e03665a3f4d2b1cd",
   "outputs": [
    {
     "data": {
      "text/plain": [
       "Index([    1,     2,     3,     4,     5,     6,     7,     8,     9,    10,\n",
       "       ...\n",
       "       29991, 29992, 29993, 29994, 29995, 29996, 29997, 29998, 29999, 30000],\n",
       "      dtype='int64', name='user_idx', length=28921)"
      ]
     },
     "execution_count": 24,
     "metadata": {},
     "output_type": "execute_result"
    }
   ],
   "execution_count": 24
  },
  {
   "metadata": {
    "ExecuteTime": {
     "end_time": "2025-05-12T01:57:12.219739Z",
     "start_time": "2025-05-12T01:57:12.210979Z"
    }
   },
   "cell_type": "code",
   "source": [
    "item_idx_list = user_item_matrix.columns\n",
    "item_idx_list"
   ],
   "id": "8f58a12dbe998fb8",
   "outputs": [
    {
     "data": {
      "text/plain": [
       "Index([   1,    2,    3,    4,    5,    6,    7,    8,    9,   10,\n",
       "       ...\n",
       "       4177, 4178, 4179, 4180, 4181, 4182, 4183, 4184, 4185, 4186],\n",
       "      dtype='int64', name='product_idx', length=4186)"
      ]
     },
     "execution_count": 25,
     "metadata": {},
     "output_type": "execute_result"
    }
   ],
   "execution_count": 25
  },
  {
   "metadata": {
    "ExecuteTime": {
     "end_time": "2025-05-11T06:26:24.526001Z",
     "start_time": "2025-05-11T06:08:12.896260Z"
    }
   },
   "cell_type": "code",
   "source": [
    "from sklearn.decomposition import SparsePCA\n",
    "sparse_pca = SparsePCA(n_components=100, random_state=42)\n",
    "user_sparse_pca = sparse_pca.fit_transform(user_item_matrix)\n",
    "user_sparse_pca"
   ],
   "id": "742ae9558022491d",
   "outputs": [
    {
     "data": {
      "text/plain": [
       "array([[-0.00497819, -0.00479733, -0.00477409, ..., -0.00420614,\n",
       "        -0.00486943, -0.00390836],\n",
       "       [-0.00497819, -0.00479733, -0.00477409, ..., -0.00420614,\n",
       "        -0.00486943, -0.00390836],\n",
       "       [-0.00497819, -0.00479733, -0.00477409, ..., -0.00420614,\n",
       "        -0.00486943, -0.00390836],\n",
       "       ...,\n",
       "       [-0.00497819, -0.00479733, -0.00477409, ..., -0.00420614,\n",
       "        -0.00486943, -0.00390821],\n",
       "       [-0.00497819, -0.00479733, -0.00477409, ..., -0.00420614,\n",
       "        -0.00486943, -0.00390836],\n",
       "       [-0.00497819, -0.00479733, -0.00477409, ..., -0.00420614,\n",
       "        -0.00486943, -0.00390836]], shape=(28921, 100))"
      ]
     },
     "execution_count": 19,
     "metadata": {},
     "output_type": "execute_result"
    }
   ],
   "execution_count": 19
  },
  {
   "metadata": {
    "ExecuteTime": {
     "end_time": "2025-05-11T06:55:19.098894Z",
     "start_time": "2025-05-11T06:54:58.556954Z"
    }
   },
   "cell_type": "code",
   "source": [
    "from sklearn.decomposition import SparsePCA\n",
    "import numpy as np\n",
    "\n",
    "# 밀집행렬 (user_item_matrix) 가정 (SparsePCA는 희소행렬 직접 지원 안 함)\n",
    "X = user_item_matrix.values  # 희소행렬을 밀집행렬로 변환\n",
    "V = sparse_pca.components_.T  # 희소 주성분 (m × k)\n",
    "\n",
    "# 재구성된 데이터\n",
    "X_reconstructed = np.dot(user_sparse_pca, V.T)  # X ≈ Z V^T\n",
    "\n",
    "# Frobenius Norm 계산\n",
    "frobenius_norm = np.sqrt(np.sum(X ** 2))  # ||X||_F\n",
    "reconstruction_error = np.sqrt(np.sum((X - X_reconstructed) ** 2))  # ||X - X̂||_F\n",
    "\n",
    "# 설명된 분산 비율 추정\n",
    "explained_variance_ratio = 1 - (reconstruction_error ** 2 / frobenius_norm ** 2)\n",
    "print(f\"Approximate explained variance ratio: {explained_variance_ratio:.4f}\")"
   ],
   "id": "c88ba3894967b310",
   "outputs": [
    {
     "name": "stdout",
     "output_type": "stream",
     "text": [
      "Approximate explained variance ratio: 0.0409\n"
     ]
    }
   ],
   "execution_count": 21
  },
  {
   "metadata": {
    "ExecuteTime": {
     "end_time": "2025-05-10T13:09:16.357230Z",
     "start_time": "2025-05-10T13:09:14.299230Z"
    }
   },
   "cell_type": "code",
   "source": [
    "from scipy.sparse import csr_matrix\n",
    "user_matrix_sparse = csr_matrix(user_item_matrix.values)  # 희소행렬로 변환\n",
    "user_matrix_sparse"
   ],
   "id": "a705865f4470fed8",
   "outputs": [
    {
     "data": {
      "text/plain": [
       "<Compressed Sparse Row sparse matrix of dtype 'float64'\n",
       "\twith 99962 stored elements and shape (28921, 4186)>"
      ]
     },
     "execution_count": 12,
     "metadata": {},
     "output_type": "execute_result"
    }
   ],
   "execution_count": 12
  },
  {
   "metadata": {
    "ExecuteTime": {
     "end_time": "2025-05-10T13:07:40.584361Z",
     "start_time": "2025-05-10T13:07:39.169955Z"
    }
   },
   "cell_type": "code",
   "source": [
    "from scipy.sparse import csr_matrix\n",
    "item_matrix_sparse = csr_matrix(user_item_matrix.T.values)  # 희소행렬로 변환\n",
    "item_matrix_sparse"
   ],
   "id": "5bab70fc11e89c03",
   "outputs": [
    {
     "data": {
      "text/plain": [
       "<Compressed Sparse Row sparse matrix of dtype 'float64'\n",
       "\twith 99962 stored elements and shape (4186, 28921)>"
      ]
     },
     "execution_count": 10,
     "metadata": {},
     "output_type": "execute_result"
    }
   ],
   "execution_count": 10
  },
  {
   "metadata": {
    "ExecuteTime": {
     "end_time": "2025-05-11T07:17:44.108760Z",
     "start_time": "2025-05-11T07:17:43.068094Z"
    }
   },
   "cell_type": "code",
   "source": [
    "from sklearn.decomposition import TruncatedSVD\n",
    "# 희소행렬 (user_item_matrix_sparse) 가정\n",
    "svd = TruncatedSVD(n_components=100, random_state=42)\n",
    "svd.fit(user_matrix_sparse)\n",
    "\n",
    "# Explained variance ratio\n",
    "explained_variance = svd.explained_variance_ratio_\n",
    "cumulative_variance = np.cumsum(explained_variance)\n",
    "\n",
    "# 누적 분산 비율 출력\n",
    "print(\"Cumulative explained variance ratio:\", cumulative_variance)"
   ],
   "id": "2c83fb09a1ab022c",
   "outputs": [
    {
     "name": "stdout",
     "output_type": "stream",
     "text": [
      "Cumulative explained variance ratio: [0.00028104 0.00087888 0.00142    0.00195734 0.00248608 0.00301084\n",
      " 0.00353029 0.00404546 0.00455544 0.00506396 0.00556861 0.00607367\n",
      " 0.00657582 0.0070768  0.00757645 0.00807415 0.00856913 0.00906119\n",
      " 0.00955318 0.01004413 0.01053331 0.01102179 0.01150939 0.01199639\n",
      " 0.01248221 0.01296686 0.01345101 0.01393265 0.01441363 0.01489328\n",
      " 0.01537215 0.01585025 0.01632647 0.01680283 0.0172778  0.01775124\n",
      " 0.01822385 0.0186964  0.01916809 0.01963862 0.02010712 0.02057548\n",
      " 0.02104285 0.02150851 0.02197334 0.02243804 0.02290169 0.02336512\n",
      " 0.02382819 0.02429063 0.02475258 0.02521355 0.02567404 0.02613387\n",
      " 0.02659203 0.02704984 0.0275073  0.02796387 0.02841979 0.02887461\n",
      " 0.02932858 0.02978191 0.03023468 0.030686   0.03113669 0.03158619\n",
      " 0.03203552 0.03248344 0.03293078 0.0333774  0.03382347 0.03426889\n",
      " 0.03471456 0.03515868 0.03560286 0.03604526 0.0364875  0.03692861\n",
      " 0.03736944 0.03780958 0.03824924 0.03868747 0.03912536 0.03956192\n",
      " 0.03999761 0.04043175 0.04086602 0.04129966 0.04173217 0.04216386\n",
      " 0.0425952  0.04302646 0.04345679 0.04388556 0.04431429 0.04474195\n",
      " 0.04516833 0.04559434 0.04601959 0.04644401]\n"
     ]
    }
   ],
   "execution_count": 22
  },
  {
   "metadata": {
    "ExecuteTime": {
     "end_time": "2025-05-10T13:09:21.445689Z",
     "start_time": "2025-05-10T13:09:20.144956Z"
    }
   },
   "cell_type": "code",
   "source": [
    "from sklearn.decomposition import TruncatedSVD\n",
    "# 3. TruncatedSVD로 차원 축소\n",
    "n_components = 128  # 차원 수 (하이퍼파라미터, 튜닝 가능)\n",
    "svd = TruncatedSVD(n_components=n_components, random_state=42)\n",
    "User_svd = svd.fit_transform(user_matrix_sparse)  # 희소행렬에 직접 적용\n",
    "User_svd"
   ],
   "id": "5b6a61e5d040fd7d",
   "outputs": [
    {
     "data": {
      "text/plain": [
       "array([[ 0.20677533,  0.02200194, -0.03577066, ..., -0.13822727,\n",
       "        -0.00630147,  0.09005696],\n",
       "       [ 0.24543219, -0.0730484 , -0.03626692, ...,  0.16131968,\n",
       "        -0.18823191,  0.13104842],\n",
       "       [ 0.16120332,  0.05675215, -0.03175438, ...,  0.02408436,\n",
       "        -0.0938067 , -0.11481933],\n",
       "       ...,\n",
       "       [ 0.1910876 , -0.03222204, -0.02283429, ..., -0.18869286,\n",
       "        -0.04241162,  0.04925968],\n",
       "       [ 0.31443312,  0.02579256, -0.13412332, ..., -0.01379606,\n",
       "        -0.11407106, -0.15271984],\n",
       "       [ 0.25706572, -0.07198695,  0.06109265, ..., -0.0169488 ,\n",
       "        -0.02736267,  0.17208861]], shape=(28921, 128))"
      ]
     },
     "execution_count": 13,
     "metadata": {},
     "output_type": "execute_result"
    }
   ],
   "execution_count": 13
  },
  {
   "metadata": {
    "ExecuteTime": {
     "end_time": "2025-05-10T13:10:00.049543Z",
     "start_time": "2025-05-10T13:09:58.539633Z"
    }
   },
   "cell_type": "code",
   "source": [
    "from sklearn.decomposition import TruncatedSVD\n",
    "# 3. TruncatedSVD로 차원 축소\n",
    "n_components = 128  # 차원 수 (하이퍼파라미터, 튜닝 가능)\n",
    "svd = TruncatedSVD(n_components=n_components, random_state=42)\n",
    "Item_svd = svd.fit_transform(item_matrix_sparse)  # 희소행렬에 직접 적용\n",
    "Item_svd"
   ],
   "id": "23a724eb59835116",
   "outputs": [
    {
     "data": {
      "text/plain": [
       "array([[ 0.32455333, -0.05934555, -0.09428332, ..., -0.17057122,\n",
       "         0.28296738,  0.0752143 ],\n",
       "       [ 0.59772365, -0.35998032, -0.09187617, ...,  1.37694849,\n",
       "         0.65537954, -0.05047051],\n",
       "       [ 0.24113529,  0.66814995, -0.01575119, ...,  0.05103879,\n",
       "        -0.00922005,  0.12538568],\n",
       "       ...,\n",
       "       [ 0.50528546,  0.02131371,  0.02007683, ...,  0.20476617,\n",
       "        -0.27597645,  0.07366935],\n",
       "       [ 0.55469145,  0.07886002, -0.19268081, ..., -0.3514155 ,\n",
       "        -0.38178905,  0.37843658],\n",
       "       [ 0.46729583, -0.04397579, -0.21501822, ...,  0.06471342,\n",
       "        -0.22399251, -0.3780588 ]], shape=(4186, 128))"
      ]
     },
     "execution_count": 14,
     "metadata": {},
     "output_type": "execute_result"
    }
   ],
   "execution_count": 14
  },
  {
   "metadata": {},
   "cell_type": "code",
   "outputs": [],
   "execution_count": null,
   "source": [
    "import pandas as pd\n",
    "import numpy as np\n",
    "from sklearn.decomposition import TruncatedSVD\n",
    "from sklearn.metrics.pairwise import cosine_similarity\n",
    "from sklearn.metrics import mean_squared_error\n",
    "from scipy.sparse import csr_matrix\n",
    "import warnings\n",
    "warnings.filterwarnings('ignore')\n",
    "\n",
    "# 2. User-Item Matrix 생성\n",
    "user_item_matrix = df.pivot_table(index='user_idx', columns='product_idx', values='review_rating')\n",
    "user_item_matrix = user_item_matrix.fillna(0)  # 결측값 0으로 채움\n",
    "user_item_matrix_sparse = csr_matrix(user_item_matrix.values)  # 희소행렬로 변환\n",
    "\n",
    "# 3. TruncatedSVD로 차원 축소\n",
    "n_components = 100  # 차원 수 (하이퍼파라미터, 튜닝 가능)\n",
    "svd = TruncatedSVD(n_components=n_components, random_state=42)\n",
    "X_svd = svd.fit_transform(user_item_matrix_sparse)  # 희소행렬에 직접 적용\n",
    "\n",
    "# Explained variance 확인\n",
    "print(f\"Explained variance ratio: {sum(svd.explained_variance_ratio_):.4f}\")\n",
    "\n",
    "# 4. 아이템 베이스 추천\n",
    "# TruncatedSVD로 축소된 아이템 잠재 요인 행렬\n",
    "item_factors = svd.components_.T  # 아이템 잠재 요인 (n_items × n_components)\n",
    "item_similarity = cosine_similarity(item_factors)  # 아이템 간 유사도 행렬\n",
    "\n",
    "def item_based_recommendation(user_id, user_item_matrix, item_similarity, top_n=10):\n",
    "    user_ratings = user_item_matrix.loc[user_id].values\n",
    "    scores = item_similarity.dot(user_ratings)  # 유사도 기반 스코어 계산\n",
    "    top_items = np.argsort(scores)[::-1][:top_n]  # 상위 N개 아이템\n",
    "    return top_items\n",
    "\n",
    "# 5. 유저 베이스 추천\n",
    "# 유저 잠재 요인 행렬 (X_svd: n_users × n_components)\n",
    "user_similarity = cosine_similarity(X_svd)  # 유저 간 유사도 행렬\n",
    "\n",
    "def user_based_recommendation(user_id, user_item_matrix, user_similarity, top_n=10):\n",
    "    similar_users = np.argsort(user_similarity[user_id])[::-1][1:11]  # 상위 10명 유사 유저\n",
    "    similar_users_ratings = user_item_matrix.iloc[similar_users].mean(axis=0)  # 평균 평점\n",
    "    top_items = np.argsort(similar_users_ratings)[::-1][:top_n]  # 상위 N개 아이템\n",
    "    return top_items\n",
    "\n",
    "# 6. 성능 평가 (RMSE)\n",
    "def evaluate_recommendation(user_item_matrix_sparse, train_ratio=0.8):\n",
    "    # 희소행렬을 밀집행렬로 변환하지 않고 처리\n",
    "    train_mask = np.random.rand(*user_item_matrix.shape) < train_ratio\n",
    "    train_matrix = user_item_matrix_sparse.multiply(train_mask)  # 훈련 데이터\n",
    "    test_matrix = user_item_matrix_sparse.multiply(~train_mask)  # 테스트 데이터\n",
    "\n",
    "    # TruncatedSVD 적용\n",
    "    svd = TruncatedSVD(n_components=n_components, random_state=42)\n",
    "    train_svd = svd.fit_transform(train_matrix)\n",
    "    item_factors = svd.components_.T\n",
    "    item_sim = cosine_similarity(item_factors)\n",
    "\n",
    "    # 아이템 베이스 예측\n",
    "    pred_ratings = np.zeros_like(user_item_matrix.values)\n",
    "    for user in range(user_item_matrix.shape[0]):\n",
    "        user_ratings = train_matrix[user].toarray().flatten()\n",
    "        scores = item_sim.dot(user_ratings)\n",
    "        pred_ratings[user] = scores / (np.abs(item_sim).sum(axis=1) + 1e-10)\n",
    "\n",
    "    # RMSE 계산\n",
    "    mask = test_matrix.toarray() > 0\n",
    "    if mask.sum() > 0:\n",
    "        rmse = np.sqrt(mean_squared_error(test_matrix.toarray()[mask], pred_ratings[mask]))\n",
    "        return rmse\n",
    "    return np.nan\n",
    "\n",
    "# 예시 실행\n",
    "user_id = 0\n",
    "print(\"Item-based recommendations:\", item_based_recommendation(user_id, user_item_matrix, item_similarity))\n",
    "print(\"User-based recommendations:\", user_based_recommendation(user_id, user_item_matrix, user_similarity))\n",
    "rmse = evaluate_recommendation(user_item_matrix_sparse)\n",
    "print(f\"RMSE: {rmse:.4f}\")"
   ],
   "id": "c670e7aeb8c2b9b5"
  }
 ],
 "metadata": {
  "kernelspec": {
   "display_name": "Python 3",
   "language": "python",
   "name": "python3"
  },
  "language_info": {
   "codemirror_mode": {
    "name": "ipython",
    "version": 2
   },
   "file_extension": ".py",
   "mimetype": "text/x-python",
   "name": "python",
   "nbconvert_exporter": "python",
   "pygments_lexer": "ipython2",
   "version": "2.7.6"
  }
 },
 "nbformat": 4,
 "nbformat_minor": 5
}
